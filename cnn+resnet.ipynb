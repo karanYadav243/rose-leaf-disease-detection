{
  "nbformat": 4,
  "nbformat_minor": 0,
  "metadata": {
    "colab": {
      "provenance": [],
      "gpuType": "T4"
    },
    "kernelspec": {
      "name": "python3",
      "display_name": "Python 3"
    },
    "language_info": {
      "name": "python"
    },
    "accelerator": "GPU"
  },
  "cells": [
    {
      "cell_type": "code",
      "execution_count": null,
      "metadata": {
        "colab": {
          "base_uri": "https://localhost:8080/"
        },
        "id": "kru860Ulo4uw",
        "outputId": "b509a92f-ad1d-4348-9db7-aaa044b2c8cc"
      },
      "outputs": [
        {
          "output_type": "stream",
          "name": "stdout",
          "text": [
            "Drive already mounted at /content/drive; to attempt to forcibly remount, call drive.mount(\"/content/drive\", force_remount=True).\n"
          ]
        }
      ],
      "source": [
        "from google.colab import drive\n",
        "drive.mount('/content/drive')"
      ]
    },
    {
      "cell_type": "code",
      "source": [
        "dataset_folder = '/content/drive/MyDrive/datasets/dataset/rose'"
      ],
      "metadata": {
        "id": "i-vUaCRXp8Tq"
      },
      "execution_count": null,
      "outputs": []
    },
    {
      "cell_type": "code",
      "source": [
        "from tensorflow.keras.preprocessing.image import ImageDataGenerator"
      ],
      "metadata": {
        "id": "e4zFkzPPp9tl"
      },
      "execution_count": null,
      "outputs": []
    },
    {
      "cell_type": "code",
      "source": [
        "root_dir = '/content/drive/MyDrive/datasets/dataset/preprocessed'\n",
        "os.makedirs(root_dir, exist_ok=True)"
      ],
      "metadata": {
        "id": "Qyv6P98gbPLL"
      },
      "execution_count": null,
      "outputs": []
    },
    {
      "cell_type": "code",
      "source": [
        "classes = ['Fresh Leaf', 'Downy mildew', 'Black Spot']"
      ],
      "metadata": {
        "id": "zuLaqNCJbPNR"
      },
      "execution_count": null,
      "outputs": []
    },
    {
      "cell_type": "code",
      "source": [
        "train_dir = os.path.join(root_dir, 'train')\n",
        "test_dir = os.path.join(root_dir, 'test')\n",
        "val_dir = os.path.join(root_dir, 'validation')\n",
        "os.makedirs(train_dir, exist_ok=True)\n",
        "os.makedirs(test_dir, exist_ok=True)\n",
        "os.makedirs(val_dir, exist_ok=True)"
      ],
      "metadata": {
        "id": "qt6QzgUpbPQ0"
      },
      "execution_count": null,
      "outputs": []
    },
    {
      "cell_type": "code",
      "source": [
        "for class_name in classes:\n",
        "    class_dir = os.path.join(dataset_folder, class_name)\n",
        "    images = os.listdir(class_dir)\n",
        "\n",
        "    # Split the images into train, validation, and test sets\n",
        "    train_images, test_images = train_test_split(images, test_size=0.2, random_state=42)\n",
        "    train_images, val_images = train_test_split(train_images, test_size=0.2, random_state=42)\n",
        "\n",
        "    # Create subdirectories for each class in the train, validation, and test sets\n",
        "    train_class_dir = os.path.join(train_dir, class_name)\n",
        "    val_class_dir = os.path.join(val_dir, class_name)\n",
        "    test_class_dir = os.path.join(test_dir, class_name)\n",
        "    os.makedirs(train_class_dir, exist_ok=True)\n",
        "    os.makedirs(val_class_dir, exist_ok=True)\n",
        "    os.makedirs(test_class_dir, exist_ok=True)\n",
        "\n",
        "    # Move the images to the corresponding train, validation, and test directories\n",
        "    for train_image in train_images:\n",
        "        src_path = os.path.join(class_dir, train_image)\n",
        "        dst_path = os.path.join(train_class_dir, train_image)\n",
        "        shutil.copy(src_path, dst_path)\n",
        "\n",
        "    for val_image in val_images:\n",
        "        src_path = os.path.join(class_dir, val_image)\n",
        "        dst_path = os.path.join(val_class_dir, val_image)\n",
        "        shutil.copy(src_path, dst_path)\n",
        "\n",
        "    for test_image in test_images:\n",
        "        src_path = os.path.join(class_dir, test_image)\n",
        "        dst_path = os.path.join(test_class_dir, test_image)\n",
        "        shutil.copy(src_path, dst_path)\n",
        "\n",
        "print(\"Dataset split and directories created successfully!\")"
      ],
      "metadata": {
        "id": "Zw_OMG8fbErN"
      },
      "execution_count": null,
      "outputs": []
    },
    {
      "cell_type": "code",
      "source": [
        "batch_size=32"
      ],
      "metadata": {
        "id": "eJ1gJt7wp9wB"
      },
      "execution_count": null,
      "outputs": []
    },
    {
      "cell_type": "code",
      "source": [
        "datagen = ImageDataGenerator(\n",
        "    rescale=1.0/255,\n",
        "    rotation_range=20,\n",
        "    zoom_range=0.2,\n",
        "    horizontal_flip=True\n",
        ")"
      ],
      "metadata": {
        "id": "1v3fxmUIp9zB"
      },
      "execution_count": null,
      "outputs": []
    },
    {
      "cell_type": "code",
      "source": [
        "train_generator = datagen.flow_from_directory(\n",
        "    dataset_folder,\n",
        "    target_size=(224, 224),\n",
        "    batch_size=batch_size,\n",
        "    class_mode='categorical'\n",
        ")"
      ],
      "metadata": {
        "colab": {
          "base_uri": "https://localhost:8080/"
        },
        "id": "8zmI9w9fp91s",
        "outputId": "4b460f15-76b1-4b6f-9698-00d44fe9a537"
      },
      "execution_count": null,
      "outputs": [
        {
          "output_type": "stream",
          "name": "stdout",
          "text": [
            "Found 4343 images belonging to 3 classes.\n"
          ]
        }
      ]
    },
    {
      "cell_type": "code",
      "source": [
        "val_datagen = ImageDataGenerator(rescale=1.0/255)\n",
        "test_datagen = ImageDataGenerator(rescale=1.0/255)"
      ],
      "metadata": {
        "id": "kzQEWcChp95I"
      },
      "execution_count": null,
      "outputs": []
    },
    {
      "cell_type": "code",
      "source": [
        "val_generator = val_datagen.flow_from_directory(\n",
        "    dataset_folder,\n",
        "    target_size=(224, 224),\n",
        "    batch_size=batch_size,\n",
        "    class_mode='categorical'\n",
        ")"
      ],
      "metadata": {
        "colab": {
          "base_uri": "https://localhost:8080/"
        },
        "id": "OQSF8upiq93-",
        "outputId": "e1b96272-6d21-49bb-cbdf-2fe9aa439072"
      },
      "execution_count": null,
      "outputs": [
        {
          "output_type": "stream",
          "name": "stdout",
          "text": [
            "Found 4343 images belonging to 3 classes.\n"
          ]
        }
      ]
    },
    {
      "cell_type": "code",
      "source": [
        "test_generator = test_datagen.flow_from_directory(\n",
        "    dataset_folder,\n",
        "    target_size=(224, 224),\n",
        "    batch_size=batch_size,\n",
        "    class_mode='categorical'\n",
        ")"
      ],
      "metadata": {
        "colab": {
          "base_uri": "https://localhost:8080/"
        },
        "id": "uVNiphPpq97A",
        "outputId": "a1fcac6b-b0a0-4aa5-ed1a-10ec0d285f7f"
      },
      "execution_count": null,
      "outputs": [
        {
          "output_type": "stream",
          "name": "stdout",
          "text": [
            "Found 4343 images belonging to 3 classes.\n"
          ]
        }
      ]
    },
    {
      "cell_type": "code",
      "source": [
        "test_generator = test_datagen.flow_from_directory(\n",
        "    dataset_folder,\n",
        "    target_size=(224, 224),\n",
        "    batch_size=batch_size,\n",
        "    class_mode='categorical'\n",
        ")"
      ],
      "metadata": {
        "colab": {
          "base_uri": "https://localhost:8080/"
        },
        "id": "anvPfvmxq9-Y",
        "outputId": "94f4ec89-39f3-4039-db49-6686f389a83f"
      },
      "execution_count": null,
      "outputs": [
        {
          "output_type": "stream",
          "name": "stdout",
          "text": [
            "Found 4343 images belonging to 3 classes.\n"
          ]
        }
      ]
    },
    {
      "cell_type": "markdown",
      "source": [
        "# CNN"
      ],
      "metadata": {
        "id": "roopcsnBvXO0"
      }
    },
    {
      "cell_type": "code",
      "source": [
        "import tensorflow as tf\n",
        "from tensorflow.keras.models import Sequential\n",
        "from tensorflow.keras.layers import Conv2D, MaxPooling2D, Flatten, Dense, Dropout\n",
        "from sklearn.model_selection import RandomizedSearchCV"
      ],
      "metadata": {
        "id": "l6DU2RZ4q-Bx"
      },
      "execution_count": null,
      "outputs": []
    },
    {
      "cell_type": "code",
      "source": [
        "num_classes =3\n",
        "model = Sequential([\n",
        "    Conv2D(32, (3, 3), activation='relu', input_shape=(224, 224, 3)),\n",
        "    MaxPooling2D((2, 2)),\n",
        "    Conv2D(64, (3, 3), activation='relu'),\n",
        "    MaxPooling2D((2, 2)),\n",
        "    Conv2D(128, (3, 3), activation='relu'),\n",
        "    MaxPooling2D((2, 2)),\n",
        "    Flatten(),\n",
        "    Dense(256, activation='relu'),\n",
        "    Dropout(0.5),\n",
        "    Dense(num_classes, activation='softmax')\n",
        "])"
      ],
      "metadata": {
        "id": "vVyg69K8rNn4"
      },
      "execution_count": null,
      "outputs": []
    },
    {
      "cell_type": "code",
      "source": [
        "model.summary()"
      ],
      "metadata": {
        "colab": {
          "base_uri": "https://localhost:8080/"
        },
        "id": "b5_1bi8B8opK",
        "outputId": "99b2e24f-5660-42a2-d7cc-1b5892de7085"
      },
      "execution_count": null,
      "outputs": [
        {
          "output_type": "stream",
          "name": "stdout",
          "text": [
            "Model: \"sequential\"\n",
            "_________________________________________________________________\n",
            " Layer (type)                Output Shape              Param #   \n",
            "=================================================================\n",
            " conv2d (Conv2D)             (None, 222, 222, 32)      896       \n",
            "                                                                 \n",
            " max_pooling2d (MaxPooling2D  (None, 111, 111, 32)     0         \n",
            " )                                                               \n",
            "                                                                 \n",
            " conv2d_1 (Conv2D)           (None, 109, 109, 64)      18496     \n",
            "                                                                 \n",
            " max_pooling2d_1 (MaxPooling  (None, 54, 54, 64)       0         \n",
            " 2D)                                                             \n",
            "                                                                 \n",
            " conv2d_2 (Conv2D)           (None, 52, 52, 128)       73856     \n",
            "                                                                 \n",
            " max_pooling2d_2 (MaxPooling  (None, 26, 26, 128)      0         \n",
            " 2D)                                                             \n",
            "                                                                 \n",
            " flatten (Flatten)           (None, 86528)             0         \n",
            "                                                                 \n",
            " dense (Dense)               (None, 256)               22151424  \n",
            "                                                                 \n",
            " dropout (Dropout)           (None, 256)               0         \n",
            "                                                                 \n",
            " dense_1 (Dense)             (None, 3)                 771       \n",
            "                                                                 \n",
            "=================================================================\n",
            "Total params: 22,245,443\n",
            "Trainable params: 22,245,443\n",
            "Non-trainable params: 0\n",
            "_________________________________________________________________\n"
          ]
        }
      ]
    },
    {
      "cell_type": "code",
      "source": [
        "model.compile(optimizer='adam',\n",
        "              loss='categorical_crossentropy',\n",
        "              metrics=['accuracy'])"
      ],
      "metadata": {
        "id": "L34l2ptgrNq4"
      },
      "execution_count": null,
      "outputs": []
    },
    {
      "cell_type": "code",
      "source": [
        "epochs = 10\n",
        "model.fit(train_generator,\n",
        "          validation_data=val_generator,\n",
        "          epochs=epochs)"
      ],
      "metadata": {
        "colab": {
          "base_uri": "https://localhost:8080/"
        },
        "id": "-kq04XNprNuQ",
        "outputId": "7cff4bc8-26f0-4758-cc1d-d150eba9f958"
      },
      "execution_count": null,
      "outputs": [
        {
          "output_type": "stream",
          "name": "stdout",
          "text": [
            "Epoch 1/10\n",
            "136/136 [==============================] - 791s 6s/step - loss: 0.6323 - accuracy: 0.6882 - val_loss: 0.4752 - val_accuracy: 0.7610\n",
            "Epoch 2/10\n",
            "136/136 [==============================] - 167s 1s/step - loss: 0.4728 - accuracy: 0.7644 - val_loss: 0.3631 - val_accuracy: 0.8407\n",
            "Epoch 3/10\n",
            "136/136 [==============================] - 163s 1s/step - loss: 0.4243 - accuracy: 0.8077 - val_loss: 0.4052 - val_accuracy: 0.8158\n",
            "Epoch 4/10\n",
            "136/136 [==============================] - 163s 1s/step - loss: 0.3635 - accuracy: 0.8476 - val_loss: 0.3396 - val_accuracy: 0.8508\n",
            "Epoch 5/10\n",
            "136/136 [==============================] - 162s 1s/step - loss: 0.3906 - accuracy: 0.8192 - val_loss: 0.2583 - val_accuracy: 0.8952\n",
            "Epoch 6/10\n",
            "136/136 [==============================] - 162s 1s/step - loss: 0.3156 - accuracy: 0.8688 - val_loss: 0.2172 - val_accuracy: 0.9074\n",
            "Epoch 7/10\n",
            "136/136 [==============================] - 162s 1s/step - loss: 0.3340 - accuracy: 0.8524 - val_loss: 0.3721 - val_accuracy: 0.8218\n",
            "Epoch 8/10\n",
            "136/136 [==============================] - 162s 1s/step - loss: 0.2740 - accuracy: 0.8863 - val_loss: 0.2566 - val_accuracy: 0.8895\n",
            "Epoch 9/10\n",
            "136/136 [==============================] - 159s 1s/step - loss: 0.2849 - accuracy: 0.8743 - val_loss: 0.2613 - val_accuracy: 0.8989\n",
            "Epoch 10/10\n",
            "136/136 [==============================] - 162s 1s/step - loss: 0.2416 - accuracy: 0.9047 - val_loss: 0.2087 - val_accuracy: 0.9171\n"
          ]
        },
        {
          "output_type": "execute_result",
          "data": {
            "text/plain": [
              "<keras.callbacks.History at 0x7f2764429d20>"
            ]
          },
          "metadata": {},
          "execution_count": 18
        }
      ]
    },
    {
      "cell_type": "code",
      "source": [
        "model.evaluate(test_generator)"
      ],
      "metadata": {
        "colab": {
          "base_uri": "https://localhost:8080/"
        },
        "id": "DXdFu3uFr31a",
        "outputId": "9247a788-ebf7-4523-f4c4-5e5639126951"
      },
      "execution_count": null,
      "outputs": [
        {
          "output_type": "stream",
          "name": "stdout",
          "text": [
            "136/136 [==============================] - 60s 438ms/step - loss: 0.2087 - accuracy: 0.9171\n"
          ]
        },
        {
          "output_type": "execute_result",
          "data": {
            "text/plain": [
              "[0.20865929126739502, 0.9171079993247986]"
            ]
          },
          "metadata": {},
          "execution_count": 20
        }
      ]
    },
    {
      "cell_type": "code",
      "source": [
        "predictions = model.predict(test_generator)"
      ],
      "metadata": {
        "colab": {
          "base_uri": "https://localhost:8080/"
        },
        "id": "vwow4ZR12uZG",
        "outputId": "92e98b17-f5df-4c3a-fd3b-def5cb1bfc12"
      },
      "execution_count": null,
      "outputs": [
        {
          "output_type": "stream",
          "name": "stdout",
          "text": [
            "136/136 [==============================] - 59s 436ms/step\n"
          ]
        }
      ]
    },
    {
      "cell_type": "markdown",
      "source": [
        "**ResNet50**"
      ],
      "metadata": {
        "id": "ZGHfog4hyUbK"
      }
    },
    {
      "cell_type": "code",
      "source": [
        "import tensorflow as tf\n",
        "from tensorflow.keras.applications import ResNet50\n",
        "from tensorflow.keras.layers import Dense, GlobalAveragePooling2D\n",
        "from tensorflow.keras.models import Model"
      ],
      "metadata": {
        "id": "5tIS0nyU5jN9"
      },
      "execution_count": null,
      "outputs": []
    },
    {
      "cell_type": "code",
      "source": [
        "base_model = ResNet50(weights='imagenet', include_top=False, input_shape=(224, 224, 3))\n"
      ],
      "metadata": {
        "colab": {
          "base_uri": "https://localhost:8080/"
        },
        "id": "DohnfUgYxKJd",
        "outputId": "059a9aff-3a7e-4807-c9c4-3b42151f808c"
      },
      "execution_count": null,
      "outputs": [
        {
          "output_type": "stream",
          "name": "stdout",
          "text": [
            "Downloading data from https://storage.googleapis.com/tensorflow/keras-applications/resnet/resnet50_weights_tf_dim_ordering_tf_kernels_notop.h5\n",
            "94765736/94765736 [==============================] - 0s 0us/step\n"
          ]
        }
      ]
    },
    {
      "cell_type": "code",
      "source": [
        "x = base_model.output\n",
        "x = GlobalAveragePooling2D()(x)\n",
        "x = Dense(256, activation='relu')(x)\n",
        "predictions = Dense(num_classes, activation='softmax')(x)"
      ],
      "metadata": {
        "id": "AcicUPwSxKMn"
      },
      "execution_count": null,
      "outputs": []
    },
    {
      "cell_type": "code",
      "source": [
        "model_resnet = Model(inputs=base_model.input, outputs=predictions)"
      ],
      "metadata": {
        "id": "Yf91avvFxKPy"
      },
      "execution_count": null,
      "outputs": []
    },
    {
      "cell_type": "code",
      "source": [
        "for layer in base_model.layers:\n",
        "    layer.trainable = False"
      ],
      "metadata": {
        "id": "IsCQ4S4fxKS8"
      },
      "execution_count": null,
      "outputs": []
    },
    {
      "cell_type": "code",
      "source": [
        "model_resnet.compile(optimizer='adam',\n",
        "              loss='categorical_crossentropy',\n",
        "              metrics=['accuracy'])"
      ],
      "metadata": {
        "id": "RjwJVRIbxKWb"
      },
      "execution_count": null,
      "outputs": []
    },
    {
      "cell_type": "code",
      "source": [
        "epochs = 30\n",
        "model_resnet.fit(train_generator,\n",
        "          validation_data=val_generator,\n",
        "          epochs=epochs)"
      ],
      "metadata": {
        "id": "Gc3iuln45_I7"
      },
      "execution_count": null,
      "outputs": []
    },
    {
      "cell_type": "code",
      "source": [
        "model.evaluate(test_generator)"
      ],
      "metadata": {
        "colab": {
          "base_uri": "https://localhost:8080/"
        },
        "id": "UnjarZzD5_MX",
        "outputId": "dc677932-878f-44d3-dd40-02cf90ca7cff"
      },
      "execution_count": null,
      "outputs": [
        {
          "output_type": "stream",
          "name": "stdout",
          "text": [
            "136/136 [==============================] - 65s 480ms/step - loss: 0.1158 - accuracy: 0.9622\n"
          ]
        },
        {
          "output_type": "execute_result",
          "data": {
            "text/plain": [
              "[0.11583661288022995, 0.962238073348999]"
            ]
          },
          "metadata": {},
          "execution_count": 46
        }
      ]
    },
    {
      "cell_type": "markdown",
      "source": [
        "# inception v3"
      ],
      "metadata": {
        "id": "PVBLMr4tXMJF"
      }
    },
    {
      "cell_type": "code",
      "source": [
        "from tensorflow.keras.applications.inception_v3 import InceptionV3\n",
        "from tensorflow.keras.layers import Dense, GlobalAveragePooling2D\n",
        "from tensorflow.keras.models import Model\n",
        "from sklearn.metrics import accuracy_score, roc_auc_score"
      ],
      "metadata": {
        "id": "HYbj8SgtXMXd"
      },
      "execution_count": null,
      "outputs": []
    },
    {
      "cell_type": "code",
      "source": [
        "image_size=(224,224)"
      ],
      "metadata": {
        "id": "2gezJYNWXUeV"
      },
      "execution_count": null,
      "outputs": []
    },
    {
      "cell_type": "code",
      "source": [
        "base_model = InceptionV3(weights='imagenet', include_top=False, input_shape=(image_size[0], image_size[1], 3))"
      ],
      "metadata": {
        "colab": {
          "base_uri": "https://localhost:8080/"
        },
        "id": "vlU5yydhXAm4",
        "outputId": "4934e894-1c57-4d04-e732-c9f321f46a4d"
      },
      "execution_count": null,
      "outputs": [
        {
          "output_type": "stream",
          "name": "stdout",
          "text": [
            "Downloading data from https://storage.googleapis.com/tensorflow/keras-applications/inception_v3/inception_v3_weights_tf_dim_ordering_tf_kernels_notop.h5\n",
            "87910968/87910968 [==============================] - 0s 0us/step\n"
          ]
        }
      ]
    },
    {
      "cell_type": "code",
      "source": [
        "num_classes = 3\n",
        "\n",
        "batch_size = 32\n",
        "\n",
        "epochs = 10"
      ],
      "metadata": {
        "id": "I0HfnQBBXLSa"
      },
      "execution_count": null,
      "outputs": []
    },
    {
      "cell_type": "code",
      "source": [
        "x = base_model.output\n",
        "x = GlobalAveragePooling2D()(x)\n",
        "x = Dense(1024, activation='relu')(x)\n",
        "predictions = Dense(num_classes, activation='softmax')(x)"
      ],
      "metadata": {
        "id": "a93FKL32XLVf"
      },
      "execution_count": null,
      "outputs": []
    },
    {
      "cell_type": "code",
      "source": [
        "model = Model(inputs=base_model.input, outputs=predictions)"
      ],
      "metadata": {
        "id": "DuxmGda9XLY7"
      },
      "execution_count": null,
      "outputs": []
    },
    {
      "cell_type": "code",
      "source": [
        "model.compile(optimizer='adam', loss='categorical_crossentropy', metrics=['accuracy'])"
      ],
      "metadata": {
        "id": "J9f9MeG5X8Mc"
      },
      "execution_count": null,
      "outputs": []
    },
    {
      "cell_type": "code",
      "source": [
        "HISTORY = model.fit(\n",
        "    train_generator,\n",
        "    steps_per_epoch=train_generator.samples // batch_size,\n",
        "    epochs=epochs,\n",
        "    validation_data=val_generator,\n",
        "    validation_steps=val_generator.samples // batch_size\n",
        ")"
      ],
      "metadata": {
        "colab": {
          "base_uri": "https://localhost:8080/"
        },
        "id": "Eu2oIONKXApu",
        "outputId": "43c793e5-5c82-4c42-db18-cd53caef1de3"
      },
      "execution_count": null,
      "outputs": [
        {
          "output_type": "stream",
          "name": "stdout",
          "text": [
            "Epoch 1/10\n",
            "135/135 [==============================] - 259s 2s/step - loss: 0.2497 - accuracy: 0.9202 - val_loss: 17.2763 - val_accuracy: 0.4111\n",
            "Epoch 2/10\n",
            "135/135 [==============================] - 200s 1s/step - loss: 0.1106 - accuracy: 0.9729 - val_loss: 0.0613 - val_accuracy: 0.9852\n",
            "Epoch 3/10\n",
            "135/135 [==============================] - 186s 1s/step - loss: 0.0634 - accuracy: 0.9845 - val_loss: 0.3567 - val_accuracy: 0.8544\n",
            "Epoch 4/10\n",
            "135/135 [==============================] - 200s 1s/step - loss: 0.0606 - accuracy: 0.9828 - val_loss: 0.0681 - val_accuracy: 0.9780\n",
            "Epoch 5/10\n",
            "135/135 [==============================] - 195s 1s/step - loss: 0.0493 - accuracy: 0.9875 - val_loss: 0.1051 - val_accuracy: 0.9648\n",
            "Epoch 6/10\n",
            "135/135 [==============================] - 175s 1s/step - loss: 0.0498 - accuracy: 0.9856 - val_loss: 0.0170 - val_accuracy: 0.9949\n",
            "Epoch 7/10\n",
            "135/135 [==============================] - 173s 1s/step - loss: 0.0356 - accuracy: 0.9907 - val_loss: 0.1117 - val_accuracy: 0.9796\n",
            "Epoch 8/10\n",
            "135/135 [==============================] - 193s 1s/step - loss: 0.0520 - accuracy: 0.9852 - val_loss: 0.1202 - val_accuracy: 0.9583\n",
            "Epoch 9/10\n",
            "135/135 [==============================] - 173s 1s/step - loss: 0.0425 - accuracy: 0.9893 - val_loss: 0.1310 - val_accuracy: 0.9785\n",
            "Epoch 10/10\n",
            "135/135 [==============================] - 195s 1s/step - loss: 0.0403 - accuracy: 0.9886 - val_loss: 0.1496 - val_accuracy: 0.9528\n"
          ]
        }
      ]
    },
    {
      "cell_type": "code",
      "source": [
        "loss, accuracy = model.evaluate(test_generator)\n",
        "print('Test Loss :', loss)\n",
        "print('Test Accuracy:',accuracy)"
      ],
      "metadata": {
        "colab": {
          "base_uri": "https://localhost:8080/",
          "height": 200
        },
        "id": "_9IPALoGXAss",
        "outputId": "8991a0b3-399d-4aa0-c79c-e3001226642c"
      },
      "execution_count": null,
      "outputs": [
        {
          "output_type": "error",
          "ename": "NameError",
          "evalue": "ignored",
          "traceback": [
            "\u001b[0;31m---------------------------------------------------------------------------\u001b[0m",
            "\u001b[0;31mNameError\u001b[0m                                 Traceback (most recent call last)",
            "\u001b[0;32m<ipython-input-1-7256be313186>\u001b[0m in \u001b[0;36m<cell line: 1>\u001b[0;34m()\u001b[0m\n\u001b[0;32m----> 1\u001b[0;31m \u001b[0mloss\u001b[0m\u001b[0;34m,\u001b[0m \u001b[0maccuracy\u001b[0m \u001b[0;34m=\u001b[0m \u001b[0mmodel\u001b[0m\u001b[0;34m.\u001b[0m\u001b[0mevaluate\u001b[0m\u001b[0;34m(\u001b[0m\u001b[0mtest_generator\u001b[0m\u001b[0;34m)\u001b[0m\u001b[0;34m\u001b[0m\u001b[0;34m\u001b[0m\u001b[0m\n\u001b[0m\u001b[1;32m      2\u001b[0m \u001b[0mprint\u001b[0m\u001b[0;34m(\u001b[0m\u001b[0;34m'Test Loss :'\u001b[0m\u001b[0;34m,\u001b[0m \u001b[0mloss\u001b[0m\u001b[0;34m)\u001b[0m\u001b[0;34m\u001b[0m\u001b[0;34m\u001b[0m\u001b[0m\n\u001b[1;32m      3\u001b[0m \u001b[0mprint\u001b[0m\u001b[0;34m(\u001b[0m\u001b[0;34m'Test Accuracy:'\u001b[0m\u001b[0;34m,\u001b[0m\u001b[0maccuracy\u001b[0m\u001b[0;34m)\u001b[0m\u001b[0;34m\u001b[0m\u001b[0;34m\u001b[0m\u001b[0m\n",
            "\u001b[0;31mNameError\u001b[0m: name 'model' is not defined"
          ]
        }
      ]
    },
    {
      "cell_type": "markdown",
      "source": [
        "# **Cnn+lstm**"
      ],
      "metadata": {
        "id": "5lpUrae7L1qh"
      }
    },
    {
      "cell_type": "markdown",
      "source": [],
      "metadata": {
        "id": "5B2W46igL015"
      }
    },
    {
      "cell_type": "code",
      "source": [
        "model = keras.Sequential([\n",
        "    keras.layers.Conv2D(32, (3, 3), activation=\"relu\", input_shape=(254, 254, 3)),\n",
        "    keras.layers.MaxPooling2D((2, 2)),\n",
        "    keras.layers.Conv2D(64, (3, 3), activation=\"relu\"),\n",
        "    keras.layers.MaxPooling2D((2, 2)),\n",
        "    keras.layers.Conv2D(128, (3, 3), activation=\"relu\"),\n",
        "    keras.layers.MaxPooling2D((2, 2)),\n",
        "    keras.layers.Conv2D(128, (3, 3), activation=\"relu\"),\n",
        "    keras.layers.MaxPooling2D((2, 2)),\n",
        "    keras.layers.Flatten(),\n",
        "    keras.layers.Dropout(0.5),\n",
        "    keras.layers.Dense(254, activation=\"relu\"),\n",
        "    keras.layers.Reshape((1, 254)),  # Add a reshape layer to add the third dimension (timesteps)\n",
        "    keras.layers.LSTM(128),\n",
        "    keras.layers.Dense(3, activation=\"softmax\")\n",
        "])"
      ],
      "metadata": {
        "id": "uwskcso3XA7q"
      },
      "execution_count": null,
      "outputs": []
    },
    {
      "cell_type": "code",
      "source": [
        "model.summary()"
      ],
      "metadata": {
        "id": "uWpJrLV3XA-z"
      },
      "execution_count": null,
      "outputs": []
    },
    {
      "cell_type": "code",
      "source": [
        "model.compile(optimizer='adam', loss='categorical_crossentropy', metrics=['accuracy'])\n",
        "model.fit(train_generator, epochs=10)"
      ],
      "metadata": {
        "id": "FNFiE-VWXBBp"
      },
      "execution_count": null,
      "outputs": []
    },
    {
      "cell_type": "code",
      "source": [
        "model.evaluate(test_generator)"
      ],
      "metadata": {
        "id": "d9_OhmceXBEq"
      },
      "execution_count": null,
      "outputs": []
    },
    {
      "cell_type": "code",
      "source": [],
      "metadata": {
        "id": "FiCV2Ht0XBHT"
      },
      "execution_count": null,
      "outputs": []
    },
    {
      "cell_type": "code",
      "source": [],
      "metadata": {
        "id": "XUdlwvNnXBKw"
      },
      "execution_count": null,
      "outputs": []
    }
  ]
}